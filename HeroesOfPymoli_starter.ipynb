{
 "cells": [
  {
   "cell_type": "code",
   "execution_count": 102,
   "metadata": {},
   "outputs": [],
   "source": [
    "# Dependencies and Setup\n",
    "import pandas as pd\n",
    "\n",
    "# File to Load (Remember to Change These)\n",
    "file_to_load = \"Resources/purchase_data.csv\" \n",
    "\n",
    "# Read Purchasing File and store into Pandas data frame\n",
    "purchase_data_df = pd.read_csv(file_to_load)"
   ]
  },
  {
   "cell_type": "code",
   "execution_count": 103,
   "metadata": {
    "tags": []
   },
   "outputs": [
    {
     "output_type": "stream",
     "name": "stdout",
     "text": "There are 576 players in total.\n"
    }
   ],
   "source": [
    "#There will always be a purchase ID, so to count the total amount of players we can count the Purchase ID column\n",
    "\n",
    "#gotta make sure their are no duplicated under the SN column\n",
    "player_count = purchase_data_df[\"SN\"].nunique()\n",
    "print(\"There are \" + str(player_count) + \" players in total.\")"
   ]
  },
  {
   "cell_type": "code",
   "execution_count": 119,
   "metadata": {
    "scrolled": true,
    "tags": []
   },
   "outputs": [
    {
     "output_type": "stream",
     "name": "stdout",
     "text": "Total unique values: 179\nAverage Price: 3.050987179487176\nNumber of Purchases: 780\nTotal Revenue: 2379.77\n"
    }
   ],
   "source": [
    "#1 - Number of unique purchases\n",
    "unique_values = str(purchase_data_df[\"Item ID\"].nunique())\n",
    "#unique_purchases_df = purchase_data_df.groupby('Gender')['Item ID'].nunique()\n",
    "#unique_purchases_df\n",
    "\n",
    "#2 - Gets average price per purchase\n",
    "average_purchase_cost = str(purchase_data_df[\"Price\"].mean())\n",
    "\n",
    "#3 - total number of purchases\n",
    "total_purchase_num = str(purchase_data_df[\"Purchase ID\"].count())\n",
    "\n",
    "#4 - Total revenue\n",
    "total_revenue = str(purchase_data_df[\"Price\"].sum())\n",
    "\n",
    "print(\"Total unique values: \" + unique_values)\n",
    "print(\"Average Price: \" + average_purchase_cost)\n",
    "print(\"Number of Purchases: \" + total_purchase_num)\n",
    "print(\"Total Revenue: \" + total_revenue)"
   ]
  },
  {
   "cell_type": "code",
   "execution_count": 114,
   "metadata": {
    "tags": []
   },
   "outputs": [
    {
     "output_type": "execute_result",
     "data": {
      "text/plain": "Male                     484\nFemale                    81\nOther / Non-Disclosed     11\nName: Gender, dtype: int64"
     },
     "metadata": {},
     "execution_count": 114
    }
   ],
   "source": [
    "no_dups_gender = purchase_data_df.drop_duplicates(subset=['SN'], keep='last')\n",
    "gender_count = no_dups_gender[\"Gender\"].value_counts()\n",
    "gender_count"
   ]
  },
  {
   "cell_type": "code",
   "execution_count": 106,
   "metadata": {
    "tags": []
   },
   "outputs": [
    {
     "output_type": "execute_result",
     "data": {
      "text/plain": "                  Gender            Average Purchase Price  \\\n0                   Male  Price    3.017853\ndtype: float64   \n1                 Female  Price    3.203009\ndtype: float64   \n2  Other / Non-Disclosed     Price    3.346\ndtype: float64   \n\n        Average Purchase Per Person  \n0  Price    3.017853\ndtype: float64  \n1  Price    3.203009\ndtype: float64  \n2     Price    3.346\ndtype: float64  ",
      "text/html": "<div>\n<style scoped>\n    .dataframe tbody tr th:only-of-type {\n        vertical-align: middle;\n    }\n\n    .dataframe tbody tr th {\n        vertical-align: top;\n    }\n\n    .dataframe thead th {\n        text-align: right;\n    }\n</style>\n<table border=\"1\" class=\"dataframe\">\n  <thead>\n    <tr style=\"text-align: right;\">\n      <th></th>\n      <th>Gender</th>\n      <th>Average Purchase Price</th>\n      <th>Average Purchase Per Person</th>\n    </tr>\n  </thead>\n  <tbody>\n    <tr>\n      <th>0</th>\n      <td>Male</td>\n      <td>Price    3.017853\ndtype: float64</td>\n      <td>Price    3.017853\ndtype: float64</td>\n    </tr>\n    <tr>\n      <th>1</th>\n      <td>Female</td>\n      <td>Price    3.203009\ndtype: float64</td>\n      <td>Price    3.203009\ndtype: float64</td>\n    </tr>\n    <tr>\n      <th>2</th>\n      <td>Other / Non-Disclosed</td>\n      <td>Price    3.346\ndtype: float64</td>\n      <td>Price    3.346\ndtype: float64</td>\n    </tr>\n  </tbody>\n</table>\n</div>"
     },
     "metadata": {},
     "execution_count": 106
    }
   ],
   "source": [
    "#REDO THIS  \n",
    "Male_purchase_analysis = purchase_data_df.loc[purchase_data_df.Gender=='Male', :]\n",
    "Female_purchase_analysis = purchase_data_df.loc[purchase_data_df.Gender=='Female', :]\n",
    "Other_purchase_analysis = purchase_data_df.loc[purchase_data_df.Gender=='Other / Non-Disclosed', :]\n",
    "\n",
    "#Purchase count by gender\n",
    "M_Count = Male_purchase_analysis[[\"Price\"]].count()\n",
    "F_Count = Female_purchase_analysis[[\"Price\"]].count()\n",
    "O_Count = Other_purchase_analysis[[\"Price\"]].count()\n",
    "\n",
    "#This gets the average purchase price by gender\n",
    "M_Avg_Price = Male_purchase_analysis[[\"Price\"]].mean()\n",
    "F_Avg_Price =Female_purchase_analysis[[\"Price\"]].mean()\n",
    "O_Avg_Price =Other_purchase_analysis[[\"Price\"]].mean()\n",
    "\n",
    "#Average purchase total per person by gender\n",
    "M_average_purchase = ((Male_purchase_analysis[[\"Price\"]].sum()) / M_Count)\n",
    "F_average_purchase = ((Female_purchase_analysis[[\"Price\"]].sum()) /  F_Count) \n",
    "O_average_purchase = ((Other_purchase_analysis[[\"Price\"]].sum()) / O_Count)  \n",
    "\n",
    "#\n",
    "\n",
    "summary_data = ({          \"Gender\": [\"Male\", \"Female\", \"Other / Non-Disclosed\"],\n",
    "                           \"Average Purchase Price\": [M_Avg_Price,F_Avg_Price,O_Avg_Price], \n",
    "                           \"Average Purchase Per Person\": [M_average_purchase,F_average_purchase,O_average_purchase]})\n",
    "sumary_df = pd.DataFrame(summary_data)\n",
    "sumary_df.head()\n"
   ]
  },
  {
   "cell_type": "code",
   "execution_count": 107,
   "metadata": {
    "tags": []
   },
   "outputs": [
    {
     "output_type": "execute_result",
     "data": {
      "text/plain": "           Player Group  Age Percentages\nAge Group                               \n0 to 10              32         0.041026\n11 to 15             54         0.069231\n16 to 20            200         0.256410\n21 to 25            325         0.416667\n26 to 30             77         0.098718\n31 to 50             92         0.117949",
      "text/html": "<div>\n<style scoped>\n    .dataframe tbody tr th:only-of-type {\n        vertical-align: middle;\n    }\n\n    .dataframe tbody tr th {\n        vertical-align: top;\n    }\n\n    .dataframe thead th {\n        text-align: right;\n    }\n</style>\n<table border=\"1\" class=\"dataframe\">\n  <thead>\n    <tr style=\"text-align: right;\">\n      <th></th>\n      <th>Player Group</th>\n      <th>Age Percentages</th>\n    </tr>\n    <tr>\n      <th>Age Group</th>\n      <th></th>\n      <th></th>\n    </tr>\n  </thead>\n  <tbody>\n    <tr>\n      <th>0 to 10</th>\n      <td>32</td>\n      <td>0.041026</td>\n    </tr>\n    <tr>\n      <th>11 to 15</th>\n      <td>54</td>\n      <td>0.069231</td>\n    </tr>\n    <tr>\n      <th>16 to 20</th>\n      <td>200</td>\n      <td>0.256410</td>\n    </tr>\n    <tr>\n      <th>21 to 25</th>\n      <td>325</td>\n      <td>0.416667</td>\n    </tr>\n    <tr>\n      <th>26 to 30</th>\n      <td>77</td>\n      <td>0.098718</td>\n    </tr>\n    <tr>\n      <th>31 to 50</th>\n      <td>92</td>\n      <td>0.117949</td>\n    </tr>\n  </tbody>\n</table>\n</div>"
     },
     "metadata": {},
     "execution_count": 107
    }
   ],
   "source": [
    "\n",
    "bins = [0, 10, 15, 20, 25, 30, 50]\n",
    "group_labels = [\"0 to 10\", \"11 to 15\", \"16 to 20\", \"21 to 25\", \"26 to 30\", \"31 to 50\"]\n",
    "purchase_data_df[\"Age Group\"] = pd.cut(purchase_data_df[\"Age\"], bins, labels=group_labels)\n",
    "#purchase_data_df.head()\n",
    "\n",
    "age_group_df = purchase_data_df.groupby(\"Age Group\")\n",
    "#Gets group counts\n",
    "Age_grouping = (age_group_df[\"Age Group\"].count())\n",
    "#Gets percentages of age groups\n",
    "Age_percentages = (age_group_df[\"Age Group\"].count()/ total_purchase_num)\n",
    "\n",
    "age_data_dict = {\"Player Group\": Age_grouping,\"Age Percentages\": Age_percentages}\n",
    "\n",
    "\n",
    "age_data_df = pd.DataFrame(age_data_dict)\n",
    "age_data_df"
   ]
  },
  {
   "cell_type": "code",
   "execution_count": 108,
   "metadata": {},
   "outputs": [
    {
     "output_type": "execute_result",
     "data": {
      "text/plain": "           Total Purchases Per group  Average Purcahase Prices  \\\nAge Group                                                        \n0 to 10                           32                      3.40   \n11 to 15                          54                      2.90   \n16 to 20                         200                      3.11   \n21 to 25                         325                      3.02   \n26 to 30                          77                      2.88   \n31 to 50                          92                      3.15   \n\n           Purchase Total Per Person  \nAge Group                             \n0 to 10                         3.40  \n11 to 15                        2.90  \n16 to 20                        3.11  \n21 to 25                        3.02  \n26 to 30                        2.88  \n31 to 50                        3.15  ",
      "text/html": "<div>\n<style scoped>\n    .dataframe tbody tr th:only-of-type {\n        vertical-align: middle;\n    }\n\n    .dataframe tbody tr th {\n        vertical-align: top;\n    }\n\n    .dataframe thead th {\n        text-align: right;\n    }\n</style>\n<table border=\"1\" class=\"dataframe\">\n  <thead>\n    <tr style=\"text-align: right;\">\n      <th></th>\n      <th>Total Purchases Per group</th>\n      <th>Average Purcahase Prices</th>\n      <th>Purchase Total Per Person</th>\n    </tr>\n    <tr>\n      <th>Age Group</th>\n      <th></th>\n      <th></th>\n      <th></th>\n    </tr>\n  </thead>\n  <tbody>\n    <tr>\n      <th>0 to 10</th>\n      <td>32</td>\n      <td>3.40</td>\n      <td>3.40</td>\n    </tr>\n    <tr>\n      <th>11 to 15</th>\n      <td>54</td>\n      <td>2.90</td>\n      <td>2.90</td>\n    </tr>\n    <tr>\n      <th>16 to 20</th>\n      <td>200</td>\n      <td>3.11</td>\n      <td>3.11</td>\n    </tr>\n    <tr>\n      <th>21 to 25</th>\n      <td>325</td>\n      <td>3.02</td>\n      <td>3.02</td>\n    </tr>\n    <tr>\n      <th>26 to 30</th>\n      <td>77</td>\n      <td>2.88</td>\n      <td>2.88</td>\n    </tr>\n    <tr>\n      <th>31 to 50</th>\n      <td>92</td>\n      <td>3.15</td>\n      <td>3.15</td>\n    </tr>\n  </tbody>\n</table>\n</div>"
     },
     "metadata": {},
     "execution_count": 108
    }
   ],
   "source": [
    "#Gets purchase count by age frame\n",
    "age_purchase_count= (age_group_df[\"Price\"].count())\n",
    "\n",
    "#Gets aveverage purchase price\n",
    "avg_pur_price = round(age_group_df[\"Price\"].mean(), 2)\n",
    "\n",
    "\n",
    "#Gets avgerage purchase total per person\n",
    "avg_pur_pp = round(age_group_df[\"Price\"].sum()/ age_purchase_count, 2)\n",
    "\n",
    "\n",
    "pur_analysis_dict = {\"Total Purchases Per group\":age_purchase_count ,\"Average Purcahase Prices\": avg_pur_price, \"Purchase Total Per Person\": avg_pur_pp}\n",
    "\n",
    "\n",
    "pur_anal_df = pd.DataFrame(pur_analysis_dict)\n",
    "pur_anal_df"
   ]
  },
  {
   "cell_type": "code",
   "execution_count": 109,
   "metadata": {},
   "outputs": [
    {
     "output_type": "execute_result",
     "data": {
      "text/plain": "             Total Purchase Value  Purchase Count  Average Purchase Price\nSN                                                                       \nLisosia93                   18.96               5                    3.79\nIdastidru52                 15.45               4                    3.86\nChamjask73                  13.83               3                    4.61\nIral74                      13.62               4                    3.40\nIskadarya95                 13.10               3                    4.37",
      "text/html": "<div>\n<style scoped>\n    .dataframe tbody tr th:only-of-type {\n        vertical-align: middle;\n    }\n\n    .dataframe tbody tr th {\n        vertical-align: top;\n    }\n\n    .dataframe thead th {\n        text-align: right;\n    }\n</style>\n<table border=\"1\" class=\"dataframe\">\n  <thead>\n    <tr style=\"text-align: right;\">\n      <th></th>\n      <th>Total Purchase Value</th>\n      <th>Purchase Count</th>\n      <th>Average Purchase Price</th>\n    </tr>\n    <tr>\n      <th>SN</th>\n      <th></th>\n      <th></th>\n      <th></th>\n    </tr>\n  </thead>\n  <tbody>\n    <tr>\n      <th>Lisosia93</th>\n      <td>18.96</td>\n      <td>5</td>\n      <td>3.79</td>\n    </tr>\n    <tr>\n      <th>Idastidru52</th>\n      <td>15.45</td>\n      <td>4</td>\n      <td>3.86</td>\n    </tr>\n    <tr>\n      <th>Chamjask73</th>\n      <td>13.83</td>\n      <td>3</td>\n      <td>4.61</td>\n    </tr>\n    <tr>\n      <th>Iral74</th>\n      <td>13.62</td>\n      <td>4</td>\n      <td>3.40</td>\n    </tr>\n    <tr>\n      <th>Iskadarya95</th>\n      <td>13.10</td>\n      <td>3</td>\n      <td>4.37</td>\n    </tr>\n  </tbody>\n</table>\n</div>"
     },
     "metadata": {},
     "execution_count": 109
    }
   ],
   "source": [
    "#DataFrames\n",
    "top_spenders = round(purchase_data_df.groupby('SN')['Price'].sum(),2)\n",
    "top_spender_pur_count = (purchase_data_df.groupby('SN')['Price'].count())\n",
    "avg_purch_price = round(top_spenders / top_spender_pur_count,2)\n",
    "\n",
    "#Merging Groups\n",
    "merge_df = pd.merge(top_spenders, top_spender_pur_count, on=\"SN\", how=\"left\")\n",
    "merge2_df = pd.merge(merge_df, avg_purch_price, on= \"SN\", how='left')\n",
    "\n",
    "#Renaming\n",
    "renamed_df = merge2_df.rename(columns={\"Price_x\":\"Total Purchase Value\", \"Price_y\":\"Purchase Count\", \"Price\":\"Average Purchase Price\"})\n",
    "\n",
    "top_5 = renamed_df.nlargest(5, \"Total Purchase Value\")\n",
    "top_5"
   ]
  },
  {
   "cell_type": "code",
   "execution_count": 110,
   "metadata": {},
   "outputs": [
    {
     "output_type": "execute_result",
     "data": {
      "text/plain": "     index  Item ID  Purchase Count  Total Purchase Value  \\\n90     394       92              13                 59.99   \n174    762      178              12                 50.76   \n80     349       82               9                 44.10   \n105    465      108               9                 31.77   \n129    563      132               9                 28.99   \n\n                                        Item Name  Price  \n90                                   Final Critic   4.19  \n174  Oathbreaker, Last Hope of the Breaking Storm   4.23  \n80                                        Nirvana   4.90  \n105     Extraction, Quickblade Of Trembling Hands   3.53  \n129                                    Persuasion   3.33  ",
      "text/html": "<div>\n<style scoped>\n    .dataframe tbody tr th:only-of-type {\n        vertical-align: middle;\n    }\n\n    .dataframe tbody tr th {\n        vertical-align: top;\n    }\n\n    .dataframe thead th {\n        text-align: right;\n    }\n</style>\n<table border=\"1\" class=\"dataframe\">\n  <thead>\n    <tr style=\"text-align: right;\">\n      <th></th>\n      <th>index</th>\n      <th>Item ID</th>\n      <th>Purchase Count</th>\n      <th>Total Purchase Value</th>\n      <th>Item Name</th>\n      <th>Price</th>\n    </tr>\n  </thead>\n  <tbody>\n    <tr>\n      <th>90</th>\n      <td>394</td>\n      <td>92</td>\n      <td>13</td>\n      <td>59.99</td>\n      <td>Final Critic</td>\n      <td>4.19</td>\n    </tr>\n    <tr>\n      <th>174</th>\n      <td>762</td>\n      <td>178</td>\n      <td>12</td>\n      <td>50.76</td>\n      <td>Oathbreaker, Last Hope of the Breaking Storm</td>\n      <td>4.23</td>\n    </tr>\n    <tr>\n      <th>80</th>\n      <td>349</td>\n      <td>82</td>\n      <td>9</td>\n      <td>44.10</td>\n      <td>Nirvana</td>\n      <td>4.90</td>\n    </tr>\n    <tr>\n      <th>105</th>\n      <td>465</td>\n      <td>108</td>\n      <td>9</td>\n      <td>31.77</td>\n      <td>Extraction, Quickblade Of Trembling Hands</td>\n      <td>3.53</td>\n    </tr>\n    <tr>\n      <th>129</th>\n      <td>563</td>\n      <td>132</td>\n      <td>9</td>\n      <td>28.99</td>\n      <td>Persuasion</td>\n      <td>3.33</td>\n    </tr>\n  </tbody>\n</table>\n</div>"
     },
     "metadata": {},
     "execution_count": 110
    }
   ],
   "source": [
    "Popular_items_by_count_df = (purchase_data_df.groupby('Item ID')['Price'].count())\n",
    "total_income = round(purchase_data_df.groupby('Item ID')['Price'].sum(),2)\n",
    "\n",
    "refined_purchase_data_df = purchase_data_df[[\"Item ID\",\"Item Name\",\"Price\"]]\n",
    "\n",
    "merge1_df = pd.merge(Popular_items_by_count_df, total_income, on=\"Item ID\", how=\"left\")\n",
    "\n",
    "merge2_df = pd.merge(merge1_df, refined_purchase_data_df, on=\"Item ID\", how=\"left\")\n",
    "renamed1 = merge2_df.rename(columns={\"Price_x\":\"Purchase Count\", \"Price_y\":\"Total Purchase Value\"})\n",
    "no_dups = renamed1.drop_duplicates(subset=['Item ID'], keep='last')\n",
    "no_dups_new_index = no_dups.reset_index()\n",
    "no_dups_new_index\n",
    "\n",
    "top_5_df = no_dups_new_index.nlargest(5, \"Purchase Count\")\n",
    "top_5_df"
   ]
  },
  {
   "cell_type": "code",
   "execution_count": 111,
   "metadata": {
    "scrolled": true
   },
   "outputs": [
    {
     "output_type": "execute_result",
     "data": {
      "text/plain": "     index  Item ID  Purchase Count  Total Purchase Value  \\\n90     394       92              13                 59.99   \n174    762      178              12                 50.76   \n80     349       82               9                 44.10   \n105    465      108               9                 31.77   \n129    563      132               9                 28.99   \n\n                                        Item Name  Price  \n90                                   Final Critic   4.19  \n174  Oathbreaker, Last Hope of the Breaking Storm   4.23  \n80                                        Nirvana   4.90  \n105     Extraction, Quickblade Of Trembling Hands   3.53  \n129                                    Persuasion   3.33  ",
      "text/html": "<div>\n<style scoped>\n    .dataframe tbody tr th:only-of-type {\n        vertical-align: middle;\n    }\n\n    .dataframe tbody tr th {\n        vertical-align: top;\n    }\n\n    .dataframe thead th {\n        text-align: right;\n    }\n</style>\n<table border=\"1\" class=\"dataframe\">\n  <thead>\n    <tr style=\"text-align: right;\">\n      <th></th>\n      <th>index</th>\n      <th>Item ID</th>\n      <th>Purchase Count</th>\n      <th>Total Purchase Value</th>\n      <th>Item Name</th>\n      <th>Price</th>\n    </tr>\n  </thead>\n  <tbody>\n    <tr>\n      <th>90</th>\n      <td>394</td>\n      <td>92</td>\n      <td>13</td>\n      <td>59.99</td>\n      <td>Final Critic</td>\n      <td>4.19</td>\n    </tr>\n    <tr>\n      <th>174</th>\n      <td>762</td>\n      <td>178</td>\n      <td>12</td>\n      <td>50.76</td>\n      <td>Oathbreaker, Last Hope of the Breaking Storm</td>\n      <td>4.23</td>\n    </tr>\n    <tr>\n      <th>80</th>\n      <td>349</td>\n      <td>82</td>\n      <td>9</td>\n      <td>44.10</td>\n      <td>Nirvana</td>\n      <td>4.90</td>\n    </tr>\n    <tr>\n      <th>105</th>\n      <td>465</td>\n      <td>108</td>\n      <td>9</td>\n      <td>31.77</td>\n      <td>Extraction, Quickblade Of Trembling Hands</td>\n      <td>3.53</td>\n    </tr>\n    <tr>\n      <th>129</th>\n      <td>563</td>\n      <td>132</td>\n      <td>9</td>\n      <td>28.99</td>\n      <td>Persuasion</td>\n      <td>3.33</td>\n    </tr>\n  </tbody>\n</table>\n</div>"
     },
     "metadata": {},
     "execution_count": 111
    }
   ],
   "source": [
    "most_prof = top_5_df.sort_values(by='Total Purchase Value', ascending=False)\n",
    "most_prof"
   ]
  }
 ],
 "metadata": {
  "anaconda-cloud": {},
  "kernel_info": {
   "name": "python3"
  },
  "kernelspec": {
   "display_name": "Python 3.6.10 64-bit ('PythonData': conda)",
   "language": "python",
   "name": "python361064bitpythondataconda7ab9d1854d4345d88d878101b9badd37"
  },
  "language_info": {
   "codemirror_mode": {
    "name": "ipython",
    "version": 3
   },
   "file_extension": ".py",
   "mimetype": "text/x-python",
   "name": "python",
   "nbconvert_exporter": "python",
   "pygments_lexer": "ipython3",
   "version": "3.6.10-final"
  },
  "latex_envs": {
   "LaTeX_envs_menu_present": true,
   "autoclose": false,
   "autocomplete": true,
   "bibliofile": "biblio.bib",
   "cite_by": "apalike",
   "current_citInitial": 1,
   "eqLabelWithNumbers": true,
   "eqNumInitial": 1,
   "hotkeys": {
    "equation": "Ctrl-E",
    "itemize": "Ctrl-I"
   },
   "labels_anchors": false,
   "latex_user_defs": false,
   "report_style_numbering": false,
   "user_envs_cfg": false
  },
  "nteract": {
   "version": "0.2.0"
  }
 },
 "nbformat": 4,
 "nbformat_minor": 2
}